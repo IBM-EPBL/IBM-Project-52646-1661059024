{
  "nbformat": 4,
  "nbformat_minor": 0,
  "metadata": {
    "colab": {
      "provenance": [],
      "collapsed_sections": []
    },
    "kernelspec": {
      "name": "python3",
      "display_name": "Python 3"
    },
    "language_info": {
      "name": "python"
    }
  },
  "cells": [
    {
      "cell_type": "code",
      "source": [
        "from google.colab import drive\n",
        "drive.mount('/content/drive')"
      ],
      "metadata": {
        "colab": {
          "base_uri": "https://localhost:8080/"
        },
        "id": "3UtChCCpQRgv",
        "outputId": "81bf9ae9-56e8-4f93-b435-0b238c13c092"
      },
      "execution_count": 7,
      "outputs": [
        {
          "output_type": "stream",
          "name": "stdout",
          "text": [
            "Mounted at /content/drive\n"
          ]
        }
      ]
    },
    {
      "cell_type": "code",
      "source": [
        "ls"
      ],
      "metadata": {
        "colab": {
          "base_uri": "https://localhost:8080/"
        },
        "id": "jWkFTttqTLMd",
        "outputId": "5c51e10f-988e-4746-a5bb-df83e20170fa"
      },
      "execution_count": 8,
      "outputs": [
        {
          "output_type": "stream",
          "name": "stdout",
          "text": [
            "\u001b[0m\u001b[01;34mdrive\u001b[0m/  \u001b[01;34msample_data\u001b[0m/\n"
          ]
        }
      ]
    },
    {
      "cell_type": "code",
      "source": [
        "cd /content/drive/MyDrive/dataset"
      ],
      "metadata": {
        "colab": {
          "base_uri": "https://localhost:8080/"
        },
        "id": "QtJNdzlXTOR9",
        "outputId": "74161f88-defb-4355-ed18-c4c9fa58a9fe"
      },
      "execution_count": 9,
      "outputs": [
        {
          "output_type": "stream",
          "name": "stdout",
          "text": [
            "/content/drive/MyDrive/dataset\n"
          ]
        }
      ]
    },
    {
      "cell_type": "code",
      "source": [
        "ls"
      ],
      "metadata": {
        "colab": {
          "base_uri": "https://localhost:8080/"
        },
        "id": "jdsRA8pJTcxv",
        "outputId": "ed3fd5b3-15d8-4df8-b947-5b6a2814a583"
      },
      "execution_count": 10,
      "outputs": [
        {
          "output_type": "stream",
          "name": "stdout",
          "text": [
            "readme.txt  \u001b[0m\u001b[01;34mtest_set\u001b[0m/  \u001b[01;34mtrain_set\u001b[0m/\n"
          ]
        }
      ]
    },
    {
      "cell_type": "code",
      "source": [
        "pwd"
      ],
      "metadata": {
        "colab": {
          "base_uri": "https://localhost:8080/",
          "height": 35
        },
        "id": "InsbJmAITh2H",
        "outputId": "65a26e30-0976-4af8-881b-2e161815210f"
      },
      "execution_count": 11,
      "outputs": [
        {
          "output_type": "execute_result",
          "data": {
            "text/plain": [
              "'/content/drive/MyDrive/dataset'"
            ],
            "application/vnd.google.colaboratory.intrinsic+json": {
              "type": "string"
            }
          },
          "metadata": {},
          "execution_count": 11
        }
      ]
    },
    {
      "cell_type": "code",
      "source": [
        "# importing imagedatagenerator library\n",
        "\n",
        "from tensorflow.keras.preprocessing.image import ImageDataGenerator"
      ],
      "metadata": {
        "id": "mSDg38k0UHz1"
      },
      "execution_count": 12,
      "outputs": []
    },
    {
      "cell_type": "markdown",
      "source": [
        "# Image Data Agumentation"
      ],
      "metadata": {
        "id": "71iMlJweOykH"
      }
    },
    {
      "cell_type": "code",
      "source": [
        "#Configuring image Data Generator Class\n",
        "#Setting Parameter for Image Augmentation for training data\n",
        "\n",
        "train_datagen=ImageDataGenerator(rescale=1./255,horizontal_flip=True,vertical_flip=True, zoom_range=0.2)"
      ],
      "metadata": {
        "id": "3ZB0grSaUZ9p"
      },
      "execution_count": 13,
      "outputs": []
    },
    {
      "cell_type": "code",
      "source": [
        "#Image Data Augmentation for testing data\n",
        "\n",
        "test_datagen= ImageDataGenerator(rescale=1./255)"
      ],
      "metadata": {
        "id": "aFsghldpVHGk"
      },
      "execution_count": 14,
      "outputs": []
    },
    {
      "cell_type": "markdown",
      "source": [
        "## Apply ImageDataGenerator Functionality To Train And Test Dataset "
      ],
      "metadata": {
        "id": "6DKBV3hMMj2H"
      }
    },
    {
      "cell_type": "code",
      "source": [
        "#Performing data augmentation to train data\n",
        "\n",
        "x_train = train_datagen.flow_from_directory('/content/drive/MyDrive/dataset/train_set', target_size = (64,64), batch_size = 5, color_mode = 'rgb', class_mode = 'categorical')"
      ],
      "metadata": {
        "colab": {
          "base_uri": "https://localhost:8080/"
        },
        "id": "9Fon0ljFVfxF",
        "outputId": "4c0ff86d-f41d-4b0f-f610-fce001045e69"
      },
      "execution_count": 15,
      "outputs": [
        {
          "output_type": "stream",
          "name": "stdout",
          "text": [
            "Found 744 images belonging to 4 classes.\n"
          ]
        }
      ]
    },
    {
      "cell_type": "code",
      "source": [
        "#performing data augmentation to test data\n",
        "\n",
        "x_test = test_datagen.flow_from_directory('/content/drive/MyDrive/dataset/test_set', target_size = (64,64), batch_size = 5, color_mode = 'rgb', class_mode = 'categorical')"
      ],
      "metadata": {
        "colab": {
          "base_uri": "https://localhost:8080/"
        },
        "id": "I8A43b2MMLx5",
        "outputId": "9258f130-c150-4f0d-8c40-dbcf0fc85323"
      },
      "execution_count": 16,
      "outputs": [
        {
          "output_type": "stream",
          "name": "stdout",
          "text": [
            "Found 198 images belonging to 4 classes.\n"
          ]
        }
      ]
    },
    {
      "cell_type": "code",
      "source": [
        "#importing neccessary libraries\n",
        "\n",
        "import numpy as np\n",
        "import tensorflow\n",
        "from tensorflow.keras.models import Sequential\n",
        "from tensorflow.keras.layers import Dense,Conv2D,MaxPooling2D,Flatten"
      ],
      "metadata": {
        "id": "GpKDTtvV6FsB"
      },
      "execution_count": 17,
      "outputs": []
    },
    {
      "cell_type": "code",
      "source": [
        "# initialising the model and adding CNN layers\n",
        "\n",
        "model = Sequential()\n",
        "\n",
        "# First convolution layer and pooling\n",
        "\n",
        "model.add(Conv2D(32,(3,3),input_shape=(64,64,3),activation='relu'))\n",
        "model.add(MaxPooling2D(pool_size=(2,2)))\n",
        "\n",
        "#Second convolution layer and pooling\n",
        "\n",
        "model.add(Conv2D(32,(3,3),activation='relu'))\n",
        "model.add(MaxPooling2D(pool_size=(2,2)))\n",
        "\n",
        "#Flattening the layers\n",
        "\n",
        "model.add(Flatten())\n",
        "\n",
        "#Adding Dense Layers\n",
        "\n",
        "model.add(Dense(units=128,activation='relu'))\n",
        "model.add(Dense(units=4,activation='softmax'))"
      ],
      "metadata": {
        "id": "YzqzXiT26QIq"
      },
      "execution_count": 18,
      "outputs": []
    },
    {
      "cell_type": "code",
      "source": [
        "# Summary of our model\n",
        "\n",
        "model.summary()"
      ],
      "metadata": {
        "colab": {
          "base_uri": "https://localhost:8080/"
        },
        "id": "JKO2RQ646XWD",
        "outputId": "588d46ca-11f7-4a6e-a166-6e6cdb8a911e"
      },
      "execution_count": 19,
      "outputs": [
        {
          "output_type": "stream",
          "name": "stdout",
          "text": [
            "Model: \"sequential_1\"\n",
            "_________________________________________________________________\n",
            " Layer (type)                Output Shape              Param #   \n",
            "=================================================================\n",
            " conv2d_2 (Conv2D)           (None, 62, 62, 32)        896       \n",
            "                                                                 \n",
            " max_pooling2d_2 (MaxPooling  (None, 31, 31, 32)       0         \n",
            " 2D)                                                             \n",
            "                                                                 \n",
            " conv2d_3 (Conv2D)           (None, 29, 29, 32)        9248      \n",
            "                                                                 \n",
            " max_pooling2d_3 (MaxPooling  (None, 14, 14, 32)       0         \n",
            " 2D)                                                             \n",
            "                                                                 \n",
            " flatten_1 (Flatten)         (None, 6272)              0         \n",
            "                                                                 \n",
            " dense_2 (Dense)             (None, 128)               802944    \n",
            "                                                                 \n",
            " dense_3 (Dense)             (None, 4)                 516       \n",
            "                                                                 \n",
            "=================================================================\n",
            "Total params: 813,604\n",
            "Trainable params: 813,604\n",
            "Non-trainable params: 0\n",
            "_________________________________________________________________\n"
          ]
        }
      ]
    },
    {
      "cell_type": "code",
      "source": [
        "# Compiling the model\n",
        "\n",
        "model.compile(optimizer='adam', loss='categorical_crossentropy', metrics=['accuracy'])"
      ],
      "metadata": {
        "id": "FyQmpcqo6bjq"
      },
      "execution_count": 20,
      "outputs": []
    },
    {
      "cell_type": "code",
      "source": [
        "# Fitting the model\n",
        "\n",
        "model.fit_generator(generator=x_train,steps_per_epoch=len(x_train),epochs=20,validation_data=x_test,validation_steps=len(x_test))"
      ],
      "metadata": {
        "colab": {
          "base_uri": "https://localhost:8080/"
        },
        "id": "6JnkbosV6fN9",
        "outputId": "ce1498d2-f308-4bab-f9e3-966ddf1c765b"
      },
      "execution_count": 21,
      "outputs": [
        {
          "output_type": "stream",
          "name": "stderr",
          "text": [
            "/usr/local/lib/python3.7/dist-packages/ipykernel_launcher.py:3: UserWarning: `Model.fit_generator` is deprecated and will be removed in a future version. Please use `Model.fit`, which supports generators.\n",
            "  This is separate from the ipykernel package so we can avoid doing imports until\n"
          ]
        },
        {
          "output_type": "stream",
          "name": "stdout",
          "text": [
            "Epoch 1/20\n",
            "149/149 [==============================] - 235s 2s/step - loss: 1.2298 - accuracy: 0.4355 - val_loss: 1.2029 - val_accuracy: 0.4343\n",
            "Epoch 2/20\n",
            "149/149 [==============================] - 28s 187ms/step - loss: 0.9725 - accuracy: 0.5860 - val_loss: 1.0199 - val_accuracy: 0.5657\n",
            "Epoch 3/20\n",
            "149/149 [==============================] - 28s 185ms/step - loss: 0.7891 - accuracy: 0.6909 - val_loss: 0.9436 - val_accuracy: 0.5556\n",
            "Epoch 4/20\n",
            "149/149 [==============================] - 27s 183ms/step - loss: 0.7616 - accuracy: 0.6586 - val_loss: 0.8652 - val_accuracy: 0.6061\n",
            "Epoch 5/20\n",
            "149/149 [==============================] - 27s 183ms/step - loss: 0.6975 - accuracy: 0.7097 - val_loss: 0.7742 - val_accuracy: 0.6717\n",
            "Epoch 6/20\n",
            "149/149 [==============================] - 29s 194ms/step - loss: 0.6322 - accuracy: 0.7325 - val_loss: 0.6910 - val_accuracy: 0.7020\n",
            "Epoch 7/20\n",
            "149/149 [==============================] - 28s 186ms/step - loss: 0.6149 - accuracy: 0.7500 - val_loss: 1.0359 - val_accuracy: 0.6162\n",
            "Epoch 8/20\n",
            "149/149 [==============================] - 27s 183ms/step - loss: 0.5845 - accuracy: 0.7715 - val_loss: 0.7130 - val_accuracy: 0.7273\n",
            "Epoch 9/20\n",
            "149/149 [==============================] - 27s 185ms/step - loss: 0.5708 - accuracy: 0.7608 - val_loss: 0.9826 - val_accuracy: 0.6515\n",
            "Epoch 10/20\n",
            "149/149 [==============================] - 29s 194ms/step - loss: 0.5512 - accuracy: 0.7890 - val_loss: 0.8693 - val_accuracy: 0.6717\n",
            "Epoch 11/20\n",
            "149/149 [==============================] - 27s 184ms/step - loss: 0.5503 - accuracy: 0.7836 - val_loss: 0.7070 - val_accuracy: 0.7374\n",
            "Epoch 12/20\n",
            "149/149 [==============================] - 27s 184ms/step - loss: 0.4977 - accuracy: 0.8011 - val_loss: 0.6304 - val_accuracy: 0.7929\n",
            "Epoch 13/20\n",
            "149/149 [==============================] - 27s 184ms/step - loss: 0.4205 - accuracy: 0.8441 - val_loss: 0.6953 - val_accuracy: 0.7626\n",
            "Epoch 14/20\n",
            "149/149 [==============================] - 27s 184ms/step - loss: 0.4129 - accuracy: 0.8454 - val_loss: 0.7047 - val_accuracy: 0.7576\n",
            "Epoch 15/20\n",
            "149/149 [==============================] - 29s 190ms/step - loss: 0.4337 - accuracy: 0.8387 - val_loss: 0.5759 - val_accuracy: 0.8434\n",
            "Epoch 16/20\n",
            "149/149 [==============================] - 27s 184ms/step - loss: 0.3875 - accuracy: 0.8602 - val_loss: 0.6379 - val_accuracy: 0.7677\n",
            "Epoch 17/20\n",
            "149/149 [==============================] - 27s 184ms/step - loss: 0.3608 - accuracy: 0.8817 - val_loss: 0.7366 - val_accuracy: 0.7778\n",
            "Epoch 18/20\n",
            "149/149 [==============================] - 30s 199ms/step - loss: 0.3530 - accuracy: 0.8589 - val_loss: 0.8593 - val_accuracy: 0.7323\n",
            "Epoch 19/20\n",
            "149/149 [==============================] - 27s 184ms/step - loss: 0.3634 - accuracy: 0.8602 - val_loss: 0.7928 - val_accuracy: 0.7475\n",
            "Epoch 20/20\n",
            "149/149 [==============================] - 27s 184ms/step - loss: 0.2910 - accuracy: 0.8952 - val_loss: 0.7734 - val_accuracy: 0.8030\n"
          ]
        },
        {
          "output_type": "execute_result",
          "data": {
            "text/plain": [
              "<keras.callbacks.History at 0x7f1d107869d0>"
            ]
          },
          "metadata": {},
          "execution_count": 21
        }
      ]
    },
    {
      "cell_type": "code",
      "source": [
        "# Save the model\n",
        "\n",
        "model.save('naturaldisaster.h5')\n",
        "model_json = model.to_json()\n",
        "with open(\"model-bw.json\", \"w\") as json_file:\n",
        "  json_file.write(model_json)"
      ],
      "metadata": {
        "id": "BrSmyheL7ITI"
      },
      "execution_count": 22,
      "outputs": []
    },
    {
      "cell_type": "code",
      "source": [
        "# Load the saved model\n",
        "\n",
        "from tensorflow.keras.models import load_model\n",
        "from tensorflow.keras.preprocessing import image\n",
        "model = load_model('naturaldisaster.h5')"
      ],
      "metadata": {
        "id": "bntMCTnj7L0F"
      },
      "execution_count": 23,
      "outputs": []
    },
    {
      "cell_type": "code",
      "source": [
        "x_train.class_indices"
      ],
      "metadata": {
        "colab": {
          "base_uri": "https://localhost:8080/"
        },
        "id": "sZxJjqky7WQO",
        "outputId": "12da3cc6-7319-4951-c2fe-74b321d98bd5"
      },
      "execution_count": 24,
      "outputs": [
        {
          "output_type": "execute_result",
          "data": {
            "text/plain": [
              "{'Cyclone': 0, 'Earthquake': 1, 'Flood': 2, 'Wildfire': 3}"
            ]
          },
          "metadata": {},
          "execution_count": 24
        }
      ]
    },
    {
      "cell_type": "code",
      "source": [
        "# taking image as input\n",
        "\n",
        "img = image.load_img('/content/drive/MyDrive/dataset/test_set/Earthquake/1333.jpg',target_size=(64,64))\n",
        "x=image.img_to_array(img)\n",
        "x=np.expand_dims(x,axis=0)\n",
        "index=['Cyclone','Earthquake','Flood','Wildfire']\n",
        "y=np.argmax(model.predict(x),axis=1)\n",
        "print(index[int(y)])"
      ],
      "metadata": {
        "colab": {
          "base_uri": "https://localhost:8080/"
        },
        "id": "bdsZaoIf7ZgU",
        "outputId": "ef12e400-362a-45ea-be66-47175b8eb9b8"
      },
      "execution_count": 25,
      "outputs": [
        {
          "output_type": "stream",
          "name": "stdout",
          "text": [
            "1/1 [==============================] - 0s 93ms/step\n",
            "Earthquake\n"
          ]
        }
      ]
    },
    {
      "cell_type": "code",
      "source": [
        "# input 2\n",
        "\n",
        "img = image.load_img('/content/drive/MyDrive/dataset/test_set/Flood/1009.jpg',target_size=(64,64))\n",
        "x=image.img_to_array(img)\n",
        "x=np.expand_dims(x,axis=0)\n",
        "index=['Cyclone','Earthquake','Flood','Wildfire']\n",
        "y=np.argmax(model.predict(x),axis=1)\n",
        "print(index[int(y)])"
      ],
      "metadata": {
        "colab": {
          "base_uri": "https://localhost:8080/"
        },
        "id": "I25VwOGQ7u2r",
        "outputId": "310f1a93-67c0-4847-ca16-2c89babbedb9"
      },
      "execution_count": 30,
      "outputs": [
        {
          "output_type": "stream",
          "name": "stdout",
          "text": [
            "1/1 [==============================] - 0s 16ms/step\n",
            "Flood\n"
          ]
        }
      ]
    },
    {
      "cell_type": "code",
      "source": [
        "# input 3\n",
        "\n",
        "img = image.load_img('/content/drive/MyDrive/dataset/test_set/Wildfire/1065.jpg',target_size=(64,64))\n",
        "x=image.img_to_array(img)\n",
        "x=np.expand_dims(x,axis=0)\n",
        "index=['Cyclone','Earthquake','Flood','Wildfire']\n",
        "y=np.argmax(model.predict(x),axis=1)\n",
        "print(index[int(y)])"
      ],
      "metadata": {
        "colab": {
          "base_uri": "https://localhost:8080/"
        },
        "id": "PrHCAGyW7372",
        "outputId": "18bc6197-85db-4a18-94d9-dfe7576ace04"
      },
      "execution_count": 27,
      "outputs": [
        {
          "output_type": "stream",
          "name": "stdout",
          "text": [
            "1/1 [==============================] - 0s 14ms/step\n",
            "Wildfire\n"
          ]
        }
      ]
    },
    {
      "cell_type": "code",
      "source": [
        "# input 4\n",
        "\n",
        "img = image.load_img('/content/drive/MyDrive/dataset/test_set/Cyclone/903.jpg',target_size=(64,64))\n",
        "x=image.img_to_array(img)\n",
        "x=np.expand_dims(x,axis=0)\n",
        "index=['Cyclone','Earthquake','Flood','Wildfire']\n",
        "y=np.argmax(model.predict(x),axis=1)\n",
        "print(index[int(y)])"
      ],
      "metadata": {
        "colab": {
          "base_uri": "https://localhost:8080/"
        },
        "id": "Q2buq3-98Ezh",
        "outputId": "3007e9fe-6770-4251-c64a-addfb3bbdefb"
      },
      "execution_count": 28,
      "outputs": [
        {
          "output_type": "stream",
          "name": "stdout",
          "text": [
            "1/1 [==============================] - 0s 14ms/step\n",
            "Cyclone\n"
          ]
        }
      ]
    }
  ]
}